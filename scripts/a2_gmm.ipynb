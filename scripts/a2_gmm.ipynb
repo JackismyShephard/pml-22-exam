{
 "cells": [
  {
   "cell_type": "code",
   "execution_count": 12,
   "metadata": {},
   "outputs": [],
   "source": [
    "import numpy as np\n",
    "import matplotlib.pyplot as plt\n",
    "import torch\n",
    "\n",
    "from torch.distributions.multivariate_normal import MultivariateNormal"
   ]
  },
  {
   "cell_type": "code",
   "execution_count": null,
   "metadata": {},
   "outputs": [],
   "source": []
  },
  {
   "cell_type": "code",
   "execution_count": 24,
   "metadata": {},
   "outputs": [],
   "source": [
    "def gauss(x, mean, sigma):\n",
    "  exponent = (x - mean)\n",
    "  exponent =-(1/2)* torch.diagonal(exponent @ torch.inverse(sigma) @ exponent.T)\n",
    "  norm = (2*torch.pi)**(1/2) * torch.det(sigma)\n",
    "  return (1/norm)*torch.exp(exponent)"
   ]
  },
  {
   "cell_type": "code",
   "execution_count": 38,
   "metadata": {},
   "outputs": [],
   "source": [
    "def gaussian_mixture(x, k, iter=0, cus= None):\n",
    "  #initialize\n",
    "  #means = random points\n",
    "  #covar = unit variance\n",
    "  #pi = uniform based on k\n",
    "\n",
    "  perm = torch.randperm(x.size(0))\n",
    "  idx = perm[:k]\n",
    "  means = x[idx]\n",
    "  if cus != None:\n",
    "    means = cus\n",
    "  covar = torch.eye(x.size(1), dtype=torch.float).repeat(k,1,1)\n",
    "  pi = torch.ones(k, dtype=torch.float)/k\n",
    "  gammas = torch.zeros((x.size(0), k), dtype=torch.float)\n",
    "  nk = torch.zeros((k), dtype=torch.float)\n",
    "\n",
    "  for i in range(k):\n",
    "    gauss = MultivariateNormal(means[i], covar[i])\n",
    "    gammas[:,i] = pi[i] * torch.exp(gauss.log_prob(x))\n",
    "\n",
    "  loglike = torch.sum(torch.log(torch.sum(gammas, 1)))\n",
    "\n",
    "  print(loglike)\n",
    "  for it in range(iter):\n",
    "    # E step   \n",
    "    gammas = gammas / torch.sum(gammas, 1).reshape(-1,1)\n",
    "    nk = torch.sum(gammas, 0)\n",
    "\n",
    "    # M step\n",
    "    for i in range(k):\n",
    "      means[i] = (1/nk[i]) * torch.sum(x*gammas[:,[i]], 0)\n",
    "      covar[i] = (1/nk[i]) * (gammas[:,[i]]* (x - means[i])).T @  (x - means[i])\n",
    "      pi[i] = nk[i] / x.shape[0]\n",
    "\n",
    "    # eval step\n",
    "    for i in range(k):\n",
    "      gauss = MultivariateNormal(means[i], covar[i])\n",
    "      gammas[:,i] = pi[i] * torch.exp(gauss.log_prob(x))\n",
    "    loglike = torch.sum(torch.log(torch.sum(gammas, 1)))\n",
    "\n",
    "    print(loglike)\n",
    "\n",
    "  gammas = gammas / torch.sum(gammas, 1).reshape(-1,1)\n",
    "  return means, covar, pi, gammas"
   ]
  },
  {
   "cell_type": "code",
   "execution_count": 39,
   "metadata": {},
   "outputs": [],
   "source": [
    "mean_1 = [3,6]\n",
    "mean_2 = [2,2]\n",
    "mean_3 = [6,3]\n",
    "\n",
    "std_1 = [0.5,2]\n",
    "std_2 = [0.5,1]\n",
    "std_3 = [0.5,0.5]\n",
    "\n",
    "data_points = 200\n",
    "\n",
    "normal_1 = torch.normal(mean=torch.tensor(mean_1*data_points, dtype=torch.float), std = torch.tensor(std_1*data_points, dtype=torch.float)).reshape(data_points,-1)\n",
    "normal_2 = torch.normal(mean=torch.tensor(mean_2*data_points, dtype=torch.float), std = torch.tensor(std_2*data_points, dtype=torch.float)).reshape(data_points,-1)\n",
    "normal_3 = torch.normal(mean=torch.tensor(mean_3*data_points, dtype=torch.float), std = torch.tensor(std_3*data_points, dtype=torch.float)).reshape(data_points,-1)"
   ]
  },
  {
   "cell_type": "code",
   "execution_count": 40,
   "metadata": {},
   "outputs": [],
   "source": [
    "data = torch.cat([normal_1, normal_2, normal_3])"
   ]
  },
  {
   "cell_type": "code",
   "execution_count": 48,
   "metadata": {},
   "outputs": [
    {
     "name": "stdout",
     "output_type": "stream",
     "text": [
      "tensor(-5276.0586)\n",
      "tensor(-2377.1118)\n",
      "tensor(-2194.2305)\n",
      "tensor(-1986.4454)\n",
      "tensor(-1947.0319)\n",
      "tensor(-1940.6316)\n",
      "tensor(-1935.0790)\n",
      "tensor(-1926.8478)\n",
      "tensor(-1913.5624)\n",
      "tensor(-1903.7061)\n",
      "tensor(-1898.7549)\n"
     ]
    }
   ],
   "source": [
    "m, c, p, g = gaussian_mixture(data, 3, iter=10)"
   ]
  },
  {
   "cell_type": "code",
   "execution_count": 49,
   "metadata": {},
   "outputs": [],
   "source": [
    "import torchvision\n",
    "import torchvision.transforms as transforms\n",
    "train_dataset = torchvision.datasets.MNIST(root='./data', \n",
    "                                            train=True, \n",
    "                                       transform=transforms.ToTensor(),  \n",
    "                                           download=True)"
   ]
  },
  {
   "cell_type": "code",
   "execution_count": 50,
   "metadata": {},
   "outputs": [],
   "source": [
    "x = torch.empty(0)\n",
    "y = torch.empty(0)\n",
    "train_loader = torch.utils.data.DataLoader(dataset=train_dataset, \n",
    "                                            batch_size=1024, \n",
    "                                            shuffle=True)\n",
    "for xs,i in train_loader:\n",
    "  x = torch.cat([x,xs])\n",
    "  y = torch.cat([y,i])"
   ]
  },
  {
   "cell_type": "code",
   "execution_count": 51,
   "metadata": {},
   "outputs": [],
   "source": [
    "x_reshape = x.reshape(-1, 28*28)"
   ]
  },
  {
   "cell_type": "code",
   "execution_count": 52,
   "metadata": {},
   "outputs": [
    {
     "data": {
      "text/plain": [
       "torch.Size([784])"
      ]
     },
     "execution_count": 52,
     "metadata": {},
     "output_type": "execute_result"
    }
   ],
   "source": [
    "x_reshape[0].shape"
   ]
  },
  {
   "cell_type": "code",
   "execution_count": 39,
   "metadata": {},
   "outputs": [
    {
     "ename": "KeyboardInterrupt",
     "evalue": "",
     "output_type": "error",
     "traceback": [
      "\u001b[0;31m---------------------------------------------------------------------------\u001b[0m",
      "\u001b[0;31mKeyboardInterrupt\u001b[0m                         Traceback (most recent call last)",
      "\u001b[1;32m/home/thorreign/Documents/pml-22/scripts/a2_gmm.ipynb Cell 7\u001b[0m in \u001b[0;36m<cell line: 1>\u001b[0;34m()\u001b[0m\n\u001b[0;32m----> <a href='vscode-notebook-cell:/home/thorreign/Documents/pml-22/scripts/a2_gmm.ipynb#X11sZmlsZQ%3D%3D?line=0'>1</a>\u001b[0m m, c, p, g \u001b[39m=\u001b[39m gaussian_mixture(x_reshape, \u001b[39m10\u001b[39;49m, \u001b[39miter\u001b[39;49m\u001b[39m=\u001b[39;49m\u001b[39m10\u001b[39;49m)\n",
      "\u001b[1;32m/home/thorreign/Documents/pml-22/scripts/a2_gmm.ipynb Cell 7\u001b[0m in \u001b[0;36mgaussian_mixture\u001b[0;34m(x, k, iter, cus)\u001b[0m\n\u001b[1;32m     <a href='vscode-notebook-cell:/home/thorreign/Documents/pml-22/scripts/a2_gmm.ipynb#X11sZmlsZQ%3D%3D?line=14'>15</a>\u001b[0m nk \u001b[39m=\u001b[39m torch\u001b[39m.\u001b[39mzeros((k), dtype\u001b[39m=\u001b[39mtorch\u001b[39m.\u001b[39mfloat)\n\u001b[1;32m     <a href='vscode-notebook-cell:/home/thorreign/Documents/pml-22/scripts/a2_gmm.ipynb#X11sZmlsZQ%3D%3D?line=16'>17</a>\u001b[0m \u001b[39mfor\u001b[39;00m i \u001b[39min\u001b[39;00m \u001b[39mrange\u001b[39m(k):\n\u001b[0;32m---> <a href='vscode-notebook-cell:/home/thorreign/Documents/pml-22/scripts/a2_gmm.ipynb#X11sZmlsZQ%3D%3D?line=17'>18</a>\u001b[0m   gammas[:,i] \u001b[39m=\u001b[39m pi[i] \u001b[39m*\u001b[39m gauss(x, means[i], covar[i])\n\u001b[1;32m     <a href='vscode-notebook-cell:/home/thorreign/Documents/pml-22/scripts/a2_gmm.ipynb#X11sZmlsZQ%3D%3D?line=19'>20</a>\u001b[0m loglike \u001b[39m=\u001b[39m torch\u001b[39m.\u001b[39msum(torch\u001b[39m.\u001b[39mlog(torch\u001b[39m.\u001b[39msum(gammas, \u001b[39m1\u001b[39m)))\n\u001b[1;32m     <a href='vscode-notebook-cell:/home/thorreign/Documents/pml-22/scripts/a2_gmm.ipynb#X11sZmlsZQ%3D%3D?line=21'>22</a>\u001b[0m \u001b[39mprint\u001b[39m(loglike)\n",
      "\u001b[1;32m/home/thorreign/Documents/pml-22/scripts/a2_gmm.ipynb Cell 7\u001b[0m in \u001b[0;36mgauss\u001b[0;34m(x, mean, sigma)\u001b[0m\n\u001b[1;32m      <a href='vscode-notebook-cell:/home/thorreign/Documents/pml-22/scripts/a2_gmm.ipynb#X11sZmlsZQ%3D%3D?line=0'>1</a>\u001b[0m \u001b[39mdef\u001b[39;00m \u001b[39mgauss\u001b[39m(x, mean, sigma):\n\u001b[1;32m      <a href='vscode-notebook-cell:/home/thorreign/Documents/pml-22/scripts/a2_gmm.ipynb#X11sZmlsZQ%3D%3D?line=1'>2</a>\u001b[0m   exponent \u001b[39m=\u001b[39m (x \u001b[39m-\u001b[39m mean)\n\u001b[0;32m----> <a href='vscode-notebook-cell:/home/thorreign/Documents/pml-22/scripts/a2_gmm.ipynb#X11sZmlsZQ%3D%3D?line=2'>3</a>\u001b[0m   exponent \u001b[39m=\u001b[39m\u001b[39m-\u001b[39m(\u001b[39m1\u001b[39m\u001b[39m/\u001b[39m\u001b[39m2\u001b[39m)\u001b[39m*\u001b[39m torch\u001b[39m.\u001b[39mdiagonal(exponent \u001b[39m@\u001b[39;49m torch\u001b[39m.\u001b[39;49minverse(sigma) \u001b[39m@\u001b[39;49m exponent\u001b[39m.\u001b[39;49mT)\n\u001b[1;32m      <a href='vscode-notebook-cell:/home/thorreign/Documents/pml-22/scripts/a2_gmm.ipynb#X11sZmlsZQ%3D%3D?line=3'>4</a>\u001b[0m   norm \u001b[39m=\u001b[39m (\u001b[39m2\u001b[39m\u001b[39m*\u001b[39mtorch\u001b[39m.\u001b[39mpi)\u001b[39m*\u001b[39m\u001b[39m*\u001b[39m(\u001b[39m1\u001b[39m\u001b[39m/\u001b[39m\u001b[39m2\u001b[39m) \u001b[39m*\u001b[39m torch\u001b[39m.\u001b[39mdet(sigma)\n\u001b[1;32m      <a href='vscode-notebook-cell:/home/thorreign/Documents/pml-22/scripts/a2_gmm.ipynb#X11sZmlsZQ%3D%3D?line=4'>5</a>\u001b[0m   \u001b[39mreturn\u001b[39;00m (\u001b[39m1\u001b[39m\u001b[39m/\u001b[39mnorm)\u001b[39m*\u001b[39mtorch\u001b[39m.\u001b[39mexp(exponent)\n",
      "\u001b[0;31mKeyboardInterrupt\u001b[0m: "
     ]
    }
   ],
   "source": [
    "m, c, p, g = gaussian_mixture(x_reshape, 10, iter=10)"
   ]
  },
  {
   "cell_type": "code",
   "execution_count": null,
   "metadata": {},
   "outputs": [],
   "source": []
  }
 ],
 "metadata": {
  "kernelspec": {
   "display_name": "base",
   "language": "python",
   "name": "python3"
  },
  "language_info": {
   "codemirror_mode": {
    "name": "ipython",
    "version": 3
   },
   "file_extension": ".py",
   "mimetype": "text/x-python",
   "name": "python",
   "nbconvert_exporter": "python",
   "pygments_lexer": "ipython3",
   "version": "3.9.13"
  },
  "orig_nbformat": 4,
  "vscode": {
   "interpreter": {
    "hash": "bfea30af7b705b6cd4564b1983153dbec880bd38f80a82b10c3349c4f80b4cbc"
   }
  }
 },
 "nbformat": 4,
 "nbformat_minor": 2
}
