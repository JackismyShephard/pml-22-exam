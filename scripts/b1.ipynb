{
 "cells": [
  {
   "cell_type": "code",
   "execution_count": null,
   "metadata": {},
   "outputs": [],
   "source": [
    "import torch\n",
    "import pyro\n",
    "import pyro.contrib.gp as gp\n",
    "import pyro.distributions as dist\n",
    "import arviz\n",
    "import os\n",
    "from pyro.infer import SVI, Trace_ELBO\n",
    "from pyro.optim import Adam\n",
    "import pyro.contrib.examples.util  # patches torchvision\n",
    "from pyro.contrib.examples.util import MNIST\n",
    "import torchvision.transforms as transforms\n",
    "import matplotlib.pyplot as plt\n",
    "import numpy as np"
   ]
  },
  {
   "cell_type": "code",
   "execution_count": null,
   "metadata": {},
   "outputs": [],
   "source": [
    "def f(x):\n",
    "    return torch.sin(20 * x) + 2 * torch.cos(14 * x) - 2 * torch.sin(6 * x)"
   ]
  },
  {
   "cell_type": "code",
   "execution_count": null,
   "metadata": {},
   "outputs": [],
   "source": [
    "X = torch.tensor([-1, -1/2, 0, 1/2, 1])\n",
    "y = f(X)\n",
    "y"
   ]
  },
  {
   "cell_type": "code",
   "execution_count": null,
   "metadata": {},
   "outputs": [],
   "source": [
    "kernel = gp.kernels.RBF(input_dim=1)\n",
    "kernel.variance = pyro.nn.PyroSample(dist.LogNormal(-1.0, 1.0))\n",
    "kernel.lengthscale = pyro.nn.PyroSample(dist.LogNormal(0.0, 2.0))\n",
    "gpr = gp.models.GPRegression(X, y, kernel, noise=torch.tensor(10**(-4)))"
   ]
  },
  {
   "cell_type": "code",
   "execution_count": null,
   "metadata": {},
   "outputs": [],
   "source": [
    "def f_model(x):\n",
    "    gpr.kernel.variance = pyro.nn.PyroSample(dist.LogNormal(-1.0, 1.0))\n",
    "    gpr.kernel.lengthscale = pyro.nn.PyroSample(dist.LogNormal(0.0, 2.0))\n",
    "    loc, var = gpr(x, noiseless = False, full_cov = False)\n",
    "    pyro.sample(\"loc\", dist.Delta(loc))\n",
    "    pyro.sample(\"var\", dist.Delta(var))\n",
    "    pyro.sample(\"f\", dist.Normal(loc, var))"
   ]
  },
  {
   "cell_type": "code",
   "execution_count": null,
   "metadata": {},
   "outputs": [],
   "source": [
    "C = 4\n",
    "W = 100"
   ]
  },
  {
   "cell_type": "code",
   "execution_count": null,
   "metadata": {},
   "outputs": [],
   "source": [
    "nuts_kernel=pyro.infer.NUTS(gpr.model, jit_compile=True)\n",
    "mcmc=pyro.infer.MCMC(nuts_kernel, num_samples=500, num_chains=C, warmup_steps=W)\n",
    "mcmc.run()"
   ]
  },
  {
   "cell_type": "code",
   "execution_count": null,
   "metadata": {},
   "outputs": [],
   "source": [
    "data = arviz.from_pyro(mcmc)\n",
    "# Specify we want 95% credible interval (hdi=high density interval)\n",
    "summary = arviz.summary(data, hdi_prob=0.95)\n",
    "print(summary)\n",
    "arviz.plot_posterior(data, hdi_prob=0.95)"
   ]
  },
  {
   "cell_type": "code",
   "execution_count": null,
   "metadata": {},
   "outputs": [],
   "source": [
    "posterior_samples=mcmc.get_samples()"
   ]
  },
  {
   "cell_type": "code",
   "execution_count": null,
   "metadata": {},
   "outputs": [],
   "source": [
    "x = torch.tensor([-1/4])"
   ]
  },
  {
   "cell_type": "code",
   "execution_count": null,
   "metadata": {},
   "outputs": [],
   "source": [
    "posterior_predictive = pyro.infer.Predictive(f_model, posterior_samples = posterior_samples)(x)\n"
   ]
  },
  {
   "cell_type": "code",
   "execution_count": null,
   "metadata": {},
   "outputs": [],
   "source": [
    "posterior_predictive['loc']"
   ]
  },
  {
   "cell_type": "code",
   "execution_count": null,
   "metadata": {},
   "outputs": [],
   "source": [
    "def algo1(X, y, XNew, T, C = 4, W = 100):\n",
    "    kernel = gp.kernels.RBF(input_dim=1)\n",
    "    kernel.variance = pyro.nn.PyroSample(dist.LogNormal(-1.0, 1.0))\n",
    "    kernel.lengthscale = pyro.nn.PyroSample(dist.LogNormal(0.0, 2.0))\n",
    "    X_k, y_k = X, y\n",
    "    #gpr = gp.models.GPRegression(X, y, kernel, noise=torch.tensor(10**(-4)))\n",
    "    #nuts_kernel = pyro.infer.NUTS(gpr.model, jit_compile=True)\n",
    "    #mcmc = pyro.infer.MCMC(nuts_kernel, num_samples=1,\n",
    "    #                    num_chains=C, warmup_steps=W)\n",
    "    #mcmc.run()\n",
    "    fs_list = []\n",
    "    mean_list = []\n",
    "    var_list = []\n",
    "    min_list = []\n",
    "    for k in range(T):\n",
    "        gpr = gp.models.GPRegression(\n",
    "            X_k, y_k, kernel, noise=torch.tensor(10**(-4)))\n",
    "        nuts_kernel = pyro.infer.NUTS(gpr.model, jit_compile=True)\n",
    "        mcmc = pyro.infer.MCMC(nuts_kernel, num_samples=1,\n",
    "                        num_chains=C, warmup_steps=W)\n",
    "        mcmc.run()\n",
    "        posterior_samples=mcmc.get_samples()\n",
    "        posterior_predictive = pyro.infer.Predictive(\n",
    "            f_model, posterior_samples=posterior_samples)(XNew)\n",
    "        fs = posterior_predictive['f'].mean(dim = 0)\n",
    "        fs_list.append(fs)\n",
    "        mean_list.append(posterior_predictive['loc'].mean(dim = 0))\n",
    "        var_list.append(posterior_predictive['var'].mean(dim = 0))\n",
    "        idx = torch.argmin(fs)\n",
    "        X_min = XNew[idx]\n",
    "        y_min = f(X_min)\n",
    "        min_list.append([X_min, y_min])\n",
    "        X_k = torch.concat((X_k, X_min.reshape(1)))\n",
    "        y_k = torch.concat((y_k, y_min.reshape(1)))\n",
    "        pyro.clear_param_store()\n",
    "        #gpr.X = torch.concat((gpr.X, XNew[idx]))\n",
    "        #gpr.y = torch.concat((gpr.y, torch.tensor([min])))\n",
    "    return fs_list, mean_list, var_list, min_list"
   ]
  },
  {
   "cell_type": "code",
   "execution_count": null,
   "metadata": {},
   "outputs": [],
   "source": [
    "XNew = torch.linspace(-1, 1, steps = 200)\n",
    "T = 30"
   ]
  },
  {
   "cell_type": "code",
   "execution_count": null,
   "metadata": {},
   "outputs": [],
   "source": [
    "%%capture\n",
    "fs_list, mean_list, var_list, min_list = algo1(X, y, XNew, T)"
   ]
  },
  {
   "cell_type": "code",
   "execution_count": null,
   "metadata": {},
   "outputs": [],
   "source": [
    "plt.plot(np.array(min_list)[:,1])"
   ]
  },
  {
   "cell_type": "code",
   "execution_count": null,
   "metadata": {},
   "outputs": [],
   "source": [
    "\n",
    "def vae_model(x):\n",
    "    #with pyro.plate(\"data\", x.shape[0]):\n",
    "    w1=pyro.sample(\"mw1\", dist.Normal(0, 1).expand([2, 100]).to_event(2))\n",
    "    b1=pyro.sample(\"mb1\", dist.Normal(0, 1).expand([100]).to_event(1))\n",
    "    w2=pyro.sample(\"mw2\", dist.Normal(0, 1).expand([100, 400]).to_event(2))\n",
    "    b2=pyro.sample(\"mb2\", dist.Normal(0, 1).expand([400]).to_event(1))\n",
    "    w3=pyro.sample(\"mw3\", dist.Normal(0, 1).expand([400, 784]).to_event(2))\n",
    "    b3=pyro.sample(\"mb3\", dist.Normal(0, 1).expand([784]).to_event(1))\n",
    "    print(w1.shape)\n",
    "    print(b1.shape)\n",
    "    print(w2.shape)\n",
    "    with pyro.plate(\"data\", x.shape[0]):\n",
    "        z = pyro.sample(\"latent\", dist.Normal(0, 1).expand([2]).to_event(1))\n",
    "        h1 = torch.relu((z@ w1) +b1)\n",
    "        h2 = torch.relu((h1 @ w2) + b2)\n",
    "        h3 = torch.sigmoid((h2 @ w3) + b3)\n",
    "        pyro.sample(\"obs\", dist.Bernoulli(h3).to_event(1), obs = x.reshape(-1, 784).type(torch.int))"
   ]
  },
  {
   "cell_type": "code",
   "execution_count": null,
   "metadata": {},
   "outputs": [],
   "source": [
    "def vae_guide(x):\n",
    "    w1=pyro.sample(\"gw1\", dist.Normal(0, 1).expand([784, 400]).to_event(2))\n",
    "    b1=pyro.sample(\"gb1\", dist.Normal(0, 1).expand([400]).to_event(1))\n",
    "    w2=pyro.sample(\"gw2\", dist.Normal(0, 1).expand([400, 100]).to_event(2))\n",
    "    b2=pyro.sample(\"gb2\", dist.Normal(0, 1).expand([100]).to_event(1))\n",
    "    w3=pyro.sample(\"gw3\", dist.Normal(0, 1).expand([100, 2]).to_event(2))\n",
    "    b3=pyro.sample(\"gb3\", dist.Normal(0, 1).expand([2]).to_event(1))\n",
    "    w4=pyro.sample(\"gw4\", dist.Normal(0, 1).expand([100, 2]).to_event(2))\n",
    "    b4=pyro.sample(\"gb4\", dist.Normal(0, 1).expand([2]).to_event(1))\n",
    "    x = x.reshape(-1, 784)\n",
    "    h1 = torch.relu((x @ w1) +b1)\n",
    "    h2 = torch.relu((h1 @ w2) + b2)\n",
    "    z_loc = torch.relu((h2 @ w3) + b3)\n",
    "    z_scale = torch.exp(torch.relu(h2 @ w4 + b4))\n",
    "    with pyro.plate(\"data\", x.shape[0]):\n",
    "        pyro.sample(\"latent\", dist.Normal(z_loc, z_scale).to_event(1))"
   ]
  },
  {
   "cell_type": "code",
   "execution_count": null,
   "metadata": {},
   "outputs": [],
   "source": []
  }
 ],
 "metadata": {
  "kernelspec": {
   "display_name": "base",
   "language": "python",
   "name": "python3"
  },
  "language_info": {
   "codemirror_mode": {
    "name": "ipython",
    "version": 3
   },
   "file_extension": ".py",
   "mimetype": "text/x-python",
   "name": "python",
   "nbconvert_exporter": "python",
   "pygments_lexer": "ipython3",
   "version": "3.9.13 (main, Aug 25 2022, 23:51:50) [MSC v.1916 64 bit (AMD64)]"
  },
  "orig_nbformat": 4,
  "vscode": {
   "interpreter": {
    "hash": "c333c341eb371fc5e14c073d5b36648dab502d4cfc3bb985fa3f34b4687c0199"
   }
  }
 },
 "nbformat": 4,
 "nbformat_minor": 2
}
