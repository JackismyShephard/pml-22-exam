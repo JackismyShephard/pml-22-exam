{
 "cells": [
  {
   "cell_type": "code",
   "execution_count": 1,
   "metadata": {},
   "outputs": [],
   "source": [
    "import torchvision.datasets as datasets\n",
    "import torch\n",
    "import matplotlib.pyplot as plt\n",
    "import numpy as np\n",
    "\n",
    "import torch\n",
    "import torch.utils.data\n",
    "from torch import nn, optim\n",
    "from torch.nn import functional as F\n",
    "from torch.distributions import MultivariateNormal, Bernoulli\n",
    "from torchvision import datasets, transforms\n",
    "from torchvision.utils import save_image\n",
    "from IPython.display import clear_output\n",
    "import os"
   ]
  },
  {
   "cell_type": "code",
   "execution_count": 2,
   "metadata": {},
   "outputs": [],
   "source": [
    "vae_fig_folder = \"../report/figures/vae/\"\n",
    "cvae_fig_folder = \"../report/figures/cvae/\"\n",
    "ppca_fig_folder = \"../report/figures/ppca/\"\n",
    "os.makedirs(os.path.dirname(vae_fig_folder), exist_ok=True)\n",
    "os.makedirs(os.path.dirname(cvae_fig_folder), exist_ok=True)\n",
    "os.makedirs(os.path.dirname(ppca_fig_folder), exist_ok=True)\n",
    "os.makedirs(\"results/\", exist_ok=True)"
   ]
  },
  {
   "attachments": {},
   "cell_type": "markdown",
   "metadata": {},
   "source": [
    "# Dataset"
   ]
  },
  {
   "cell_type": "code",
   "execution_count": 3,
   "metadata": {},
   "outputs": [],
   "source": [
    "train_set = datasets.MNIST(\n",
    "    root = '../data', train=True, download=True, transform=transforms.ToTensor())\n",
    "test_set = datasets.MNIST(\n",
    "    root = '../data', train=False, download = True, transform=transforms.ToTensor())"
   ]
  },
  {
   "cell_type": "code",
   "execution_count": 4,
   "metadata": {},
   "outputs": [],
   "source": [
    "data_vec = torch.reshape(train_set.data, (60000, 28*28)).type(torch.double)\n",
    "test_vec = torch.reshape(test_set.data, (10000, 28*28)).type(torch.double)\n",
    "N_test = len(test_vec)"
   ]
  },
  {
   "cell_type": "code",
   "execution_count": 5,
   "metadata": {},
   "outputs": [],
   "source": [
    "N_comp = 6\n",
    "fig_h = 6\n",
    "indices = torch.randperm(len(test_vec))[:N_comp]\n",
    "test_sampled = test_vec[indices]\n",
    "test_img_sampled = test_sampled.reshape(-1, 28, 28)"
   ]
  },
  {
   "cell_type": "code",
   "execution_count": 6,
   "metadata": {},
   "outputs": [
    {
     "data": {
      "image/png": "[encoded data removed]",
      "text/plain": [
       "<Figure size 3600x600 with 6 Axes>"
      ]
     },
     "metadata": {},
     "output_type": "display_data"
    }
   ],
   "source": [
    "fig1, ax1 = plt.subplots(nrows=1, ncols=N_comp,\n",
    "                         figsize=(N_comp * fig_h / 1, fig_h))\n",
    "for j in range(N_comp):\n",
    "    ax1[j].axis(\"off\")\n",
    "    ax1[j].imshow(test_img_sampled[j])\n",
    "plt.savefig(ppca_fig_folder + \"real.pdf\", bbox_inches=\"tight\", facecolor=\"w\")"
   ]
  },
  {
   "attachments": {},
   "cell_type": "markdown",
   "metadata": {},
   "source": [
    "# VAE"
   ]
  },
  {
   "cell_type": "code",
   "execution_count": 7,
   "metadata": {},
   "outputs": [],
   "source": [
    "cuda2 = False  # torch.cuda.is_available() can be used to check if a gpu is available - I just set it to False\n",
    "batch_size2 = 128\n",
    "log_interval2 = 10\n",
    "epochs2 = 4  # 10\n",
    "\n",
    "torch.manual_seed(1)  # args.seed\n",
    "\n",
    "device = torch.device(\"cuda\" if cuda2 else \"cpu\")  # args.cuda\n",
    "kwargs = {'num_workers': 1, 'pin_memory': True} if cuda2 else {}  # args.cuda\n",
    "\n",
    "# Get train and test data\n",
    "train_loader = torch.utils.data.DataLoader(train_set,\n",
    "    batch_size=batch_size2, shuffle=True, **kwargs)\n",
    "test_loader = torch.utils.data.DataLoader(test_set,\n",
    "    batch_size=batch_size2, shuffle=True, **kwargs)\n"
   ]
  },
  {
   "cell_type": "code",
   "execution_count": 8,
   "metadata": {},
   "outputs": [],
   "source": [
    "# Define VAE model\n",
    "class VAE(nn.Module):\n",
    "    def __init__(self):\n",
    "        super(VAE, self).__init__()\n",
    "\n",
    "        self.fc1 = nn.Linear(784, 400)\n",
    "        self.fc1a = nn.Linear(400, 100)\n",
    "        self.fc21 = nn.Linear(100, 2)  # Latent space of 2D\n",
    "        self.fc22 = nn.Linear(100, 2)  # Latent space of 2D\n",
    "        self.fc3 = nn.Linear(2, 100)  # Latent space of 2D\n",
    "        self.fc3a = nn.Linear(100, 400)\n",
    "        self.fc4 = nn.Linear(400, 784)\n",
    "\n",
    "    def encode(self, x):\n",
    "        h1 = F.relu(self.fc1(x))\n",
    "        h2 = F.relu(self.fc1a(h1))\n",
    "        return self.fc21(h2), self.fc22(h2)\n",
    "\n",
    "    def reparameterize(self, mu, logvar):\n",
    "        std = torch.exp(0.5*logvar)\n",
    "        eps = torch.randn_like(std)\n",
    "        return mu + eps*std\n",
    "\n",
    "    def decode(self, z):\n",
    "        h3 = F.relu(self.fc3(z))\n",
    "        h4 = F.relu(self.fc3a(h3))\n",
    "        return torch.sigmoid(self.fc4(h4))\n",
    "\n",
    "    def forward(self, x):\n",
    "        mu, logvar = self.encode(x.view(-1, 784))\n",
    "        z = self.reparameterize(mu, logvar)\n",
    "        temp = self.decode(z).view(-1, 1, 28, 28)\n",
    "        return temp, mu, logvar\n"
   ]
  },
  {
   "cell_type": "code",
   "execution_count": 9,
   "metadata": {},
   "outputs": [],
   "source": [
    "# Define CVAE model\n",
    "class CVAE(nn.Module):\n",
    "    def __init__(self):\n",
    "        super(CVAE, self).__init__()\n",
    "\n",
    "        self.fc1 = nn.Conv2d(1, 32, kernel_size=(\n",
    "            3, 3), stride=2, padding=1)  # nn.Linear(784, 400)\n",
    "        self.fc1a = nn.Conv2d(32, 64, kernel_size=(\n",
    "            3, 3), stride=2, padding=1)  # nn.Linear(400, 100)\n",
    "        W, H = 7, 7\n",
    "        self.fc21 = nn.Linear(64 * W * H, 2)  # Latent space of 2D\n",
    "        self.fc22 = nn.Linear(64 * W * H, 2)  # Latent space of 2D\n",
    "        self.fc3 = nn.Linear(2, 64 * W * H)  # Latent space of 2D\n",
    "        self.fc3a = nn.ConvTranspose2d(\n",
    "            64, 32, kernel_size=3, stride=2, padding=1, output_padding=1)\n",
    "        self.fc4 = nn.ConvTranspose2d(\n",
    "            32, 1, kernel_size=3, stride=2, padding=1, output_padding=1)\n",
    "\n",
    "    def encode(self, x):\n",
    "        h1 = F.relu(self.fc1(x))\n",
    "        h2 = F.relu(self.fc1a(h1))\n",
    "        h2 = h2.view(-1, 7 * 7 * 64)\n",
    "        return self.fc21(h2), self.fc22(h2)\n",
    "\n",
    "    def reparameterize(self, mu, logvar):\n",
    "        std = torch.exp(0.5*logvar)\n",
    "        eps = torch.randn_like(std)\n",
    "        return mu + eps*std\n",
    "\n",
    "    def decode(self, z):\n",
    "        h3 = F.relu(self.fc3(z))\n",
    "        h3 = h3.view(-1, 64, 7, 7)\n",
    "        h4 = F.relu(self.fc3a(h3))\n",
    "        return torch.sigmoid(self.fc4(h4))\n",
    "\n",
    "    def forward(self, x):\n",
    "        mu, logvar = self.encode(x)\n",
    "        z = self.reparameterize(mu, logvar)\n",
    "        return self.decode(z), mu, logvar\n"
   ]
  },
  {
   "cell_type": "code",
   "execution_count": 10,
   "metadata": {},
   "outputs": [],
   "source": [
    "def conv_dims(in_dim, padding, kernel_size, dilation, stride):\n",
    "    return torch.floor((torch.tensor(in_dim + 2 * padding - dilation * (kernel_size -1) -1)/stride) + 1)\n",
    "\n",
    "def conv_t_dims(in_dim, padding, kernel_size, dilation, stride, output_padding):\n",
    "    return (in_dim -1) * stride - 2 * padding + dilation * (kernel_size -1) + output_padding + 1"
   ]
  },
  {
   "cell_type": "code",
   "execution_count": 11,
   "metadata": {},
   "outputs": [],
   "source": [
    "# Reconstruction + KL divergence losses summed over all elements and batch\n",
    "def loss_function(recon_x, x, mu, logvar, l = 1):\n",
    "    BCE = F.binary_cross_entropy(recon_x, x, reduction='sum')\n",
    "    KLD = -0.5 * torch.sum(1 + logvar - mu.pow(2) - logvar.exp())\n",
    "    return BCE + l * KLD  # -ELBO if l = 1, if l = 0 then we have simply the log likelihood of x given z \n",
    "\n",
    "def train(model, optimizer, train_loader, epoch):\n",
    "    # so that everything has gradients and we can do backprop and so on...\n",
    "    model.train()\n",
    "    train_loss = 0\n",
    "    for batch_idx, (data, _) in enumerate(train_loader):\n",
    "        data = data.to(device)\n",
    "        optimizer.zero_grad()  # \"reset\" gradients to 0 for text iteration\n",
    "        recon_batch, mu, logvar = model(data)\n",
    "        loss = loss_function(recon_batch, data, mu, logvar, l = 1)\n",
    "        loss.backward()  # calc gradients\n",
    "        train_loss += loss.item()\n",
    "        optimizer.step()  # backpropagation\n",
    "    clear_output(wait=True)\n",
    "    print('====> Epoch: {} Average loss: {:.4f}'.format(\n",
    "          epoch, train_loss / len(train_loader.dataset)))\n",
    "\n",
    "\n",
    "def test(model, test_loader, mean = True, mse = False):\n",
    "    model.eval()\n",
    "    e_log_prob = 0\n",
    "    elbo = 0\n",
    "    mse_loss = 0\n",
    "    with torch.no_grad():  # no_grad turns of gradients...\n",
    "        for i, (data, _) in enumerate(test_loader):\n",
    "            data = data.to(device)\n",
    "            recon_batch, mu, logvar = model(data)\n",
    "            e_log_prob += - loss_function(recon_batch, data, mu, logvar, l = 0).item()\n",
    "            elbo += - loss_function(recon_batch, data, mu, logvar, l = 1).item()\n",
    "            mse_loss += torch.nn.functional.mse_loss(recon_batch, data)\n",
    "    if mean :\n",
    "        e_log_prob /= len(test_loader.dataset)\n",
    "        mse_loss /= len(test_loader.dataset)\n",
    "        elbo /= len(test_loader.dataset)\n",
    "    print('====> Test set ELBO: {:.8f}'.format(elbo))\n",
    "    print('====> Test set expected log likelihood: {:.8f}'.format(e_log_prob))\n",
    "    print('====> Test set mse loss: {:.8f}'.format(mse_loss))\n",
    "    return e_log_prob, mse_loss, elbo\n",
    "\n",
    "\n",
    "def model_train(model, optimizer, train_loader, test_loader, epochs):\n",
    "    for epoch in range(1, epochs + 1):\n",
    "        train(model, optimizer, train_loader, epoch)\n",
    "        log_prob, mse_loss, elbo = test(model, test_loader, mean = True)\n",
    "        with torch.no_grad():\n",
    "            sample = torch.randn(64, 2).to(device)  # 20 -> 2\n",
    "            sample = model.decode(sample).cpu()\n",
    "            save_image(sample.view(64, 1, 28, 28),\n",
    "                       'results/sample_' + str(epoch) + '.png')\n",
    "    return log_prob, mse_loss, elbo"
   ]
  },
  {
   "cell_type": "code",
   "execution_count": 12,
   "metadata": {},
   "outputs": [],
   "source": [
    "vae_model = VAE().to(device)\n",
    "vae_optimizer = optim.Adam(vae_model.parameters(), lr=1e-3)\n",
    "# train some shit\n",
    "\n",
    "cvae_model = CVAE().to(device)\n",
    "cvae_optimizer = optim.Adam(cvae_model.parameters(), lr=1e-3)\n",
    "# train more shit\n",
    "num_epochs = 10\n"
   ]
  },
  {
   "cell_type": "code",
   "execution_count": 13,
   "metadata": {},
   "outputs": [
    {
     "name": "stdout",
     "output_type": "stream",
     "text": [
      "====> Epoch: 10 Average loss: 144.6963\n",
      "====> Test set ELBO: -145.12204819\n",
      "====> Test set expected log likelihood: -138.72355093\n",
      "====> Test set mse loss: 0.00030526\n"
     ]
    }
   ],
   "source": [
    "log_prob_vae, mse_loss_vae, elbo_vae = model_train(\n",
    "    vae_model, vae_optimizer, train_loader, test_loader, num_epochs)"
   ]
  },
  {
   "cell_type": "code",
   "execution_count": 14,
   "metadata": {},
   "outputs": [
    {
     "name": "stdout",
     "output_type": "stream",
     "text": [
      "====> Epoch: 6 Average loss: 160.7734\n",
      "====> Test set ELBO: -159.94936160\n",
      "====> Test set expected log likelihood: -154.21721299\n",
      "====> Test set mse loss: 0.00036178\n"
     ]
    }
   ],
   "source": [
    "log_prob_cvae, mse_loss_cvae, elbo_cvae = model_train(\n",
    "    cvae_model, cvae_optimizer, train_loader, test_loader, num_epochs)\n"
   ]
  },
  {
   "attachments": {},
   "cell_type": "markdown",
   "metadata": {},
   "source": [
    "## Qualitative results"
   ]
  },
  {
   "attachments": {},
   "cell_type": "markdown",
   "metadata": {},
   "source": [
    "###  basic VAE"
   ]
  },
  {
   "cell_type": "code",
   "execution_count": null,
   "metadata": {},
   "outputs": [],
   "source": [
    "mnist_test = list(test_loader)\n",
    "B = len(mnist_test)\n",
    "results = torch.zeros((128*B, 2))\n",
    "all_labels = torch.empty(0)\n",
    "l = 0\n",
    "for b in range(B):\n",
    "    labels = mnist_test[b][1]\n",
    "    all_labels = torch.cat((all_labels, labels))\n",
    "\n",
    "    images = mnist_test[b][0]\n",
    "    K = images.shape[0]\n",
    "    for k in range(K):\n",
    "        an_img = images[k, :, :, :]\n",
    "        an_img_flat = torch.flatten(an_img)\n",
    "        mean_img = vae_model.encode(an_img_flat)[0]\n",
    "        results[l] = mean_img\n",
    "        l += 1\n",
    "results = results[:l, :]\n",
    "all_labels = all_labels[:l]\n"
   ]
  },
  {
   "cell_type": "code",
   "execution_count": null,
   "metadata": {},
   "outputs": [],
   "source": [
    "results_for_plot = results.detach().numpy()\n",
    "\n",
    "scatter_x = results_for_plot[:, 0]\n",
    "scatter_y = results_for_plot[:, 1]\n",
    "group = all_labels\n",
    "\n",
    "cdict = {0: 'black', 1: 'red', 2: 'blue', 3: 'green', 4: 'brown',\n",
    "         5: 'orange', 6: 'yellow', 7: 'magenta', 8: 'cyan', 9: 'purple'}\n",
    "\n",
    "fig, ax = plt.subplots()\n",
    "for g in np.unique(group):\n",
    "    ix = np.where(group == g)\n",
    "    ax.scatter(scatter_x[ix], scatter_y[ix], c=cdict[g], label=g, s=0.8)\n",
    "ax.legend(markerscale=10)\n",
    "plt.savefig(vae_fig_folder + \"clustering.pdf\",\n",
    "            bbox_inches=\"tight\", facecolor=\"w\")\n"
   ]
  },
  {
   "cell_type": "code",
   "execution_count": null,
   "metadata": {},
   "outputs": [],
   "source": [
    "M = 12\n",
    "x = torch.linspace(start=0, end=1, steps=M+2)\n",
    "x = x[:-1]\n",
    "x = x[1:]\n",
    "mesh_x, mesh_y = torch.meshgrid(x, x)\n",
    "gauss = torch.distributions.normal.Normal(loc=0, scale=1)\n",
    "gauss_x = gauss.icdf(mesh_x)  # .flip(0)\n",
    "gauss_y = gauss.icdf(mesh_y)\n",
    "fig, ax = plt.subplots(nrows=M, ncols=M, figsize=(8, 8), sharex = True, sharey = True)\n",
    "for i in range(M):\n",
    "    for j in range(M):\n",
    "        x_val = gauss_x[i,j].item()\n",
    "        y_val = gauss_y[i,j].item()\n",
    "        im = vae_model.decode(torch.Tensor([y_val, x_val]))\n",
    "        im_plt = im.reshape((28,28))\n",
    "        plot_me = im_plt.detach().numpy()\n",
    "        ax[i][j].imshow(plot_me)\n",
    "        ax[i][j].axis(\"off\")\n",
    "\n",
    "slim=0.6\n",
    "plt.tight_layout(pad=-slim, w_pad=-slim, h_pad=-slim)\n",
    "plt.savefig(vae_fig_folder + \"interpolation.pdf\",\n",
    "            bbox_inches=\"tight\", facecolor=\"w\")\n"
   ]
  },
  {
   "cell_type": "code",
   "execution_count": null,
   "metadata": {},
   "outputs": [],
   "source": [
    "recons_vae_sampled, _, _ = vae_model(test_sampled.type(torch.float))\n",
    "recons_vae_img_sampled = recons_vae_sampled.detach().reshape(-1, 28,28)\n",
    "fig2, ax2 = plt.subplots(nrows=1, ncols=N_comp,\n",
    "                         figsize=(N_comp * fig_h / 1, fig_h))\n",
    "for j in range(N_comp):\n",
    "    ax2[j].axis(\"off\")\n",
    "    ax2[j].imshow(recons_vae_img_sampled[j])\n",
    "plt.savefig(vae_fig_folder + \"mean.pdf\", bbox_inches=\"tight\", facecolor=\"w\")\n"
   ]
  },
  {
   "cell_type": "code",
   "execution_count": null,
   "metadata": {},
   "outputs": [],
   "source": [
    "bernoulli_vae = Bernoulli(recons_vae_img_sampled)\n",
    "samples_vae = bernoulli_vae.sample()\n",
    "fig3, ax3 = plt.subplots(nrows=1, ncols=N_comp,\n",
    "                         figsize=(N_comp * fig_h / 1, fig_h))\n",
    "for j in range(N_comp):\n",
    "    ax3[j].axis(\"off\")\n",
    "    ax3[j].imshow(samples_vae[j])\n",
    "plt.savefig(vae_fig_folder + \"sample.pdf\", bbox_inches=\"tight\", facecolor=\"w\")"
   ]
  },
  {
   "attachments": {},
   "cell_type": "markdown",
   "metadata": {},
   "source": [
    "### CVAE"
   ]
  },
  {
   "cell_type": "code",
   "execution_count": null,
   "metadata": {},
   "outputs": [],
   "source": [
    "mnist_test = list(test_loader)\n",
    "B = len(mnist_test)\n",
    "results = torch.zeros((128*B, 2))\n",
    "all_labels = torch.empty(0)\n",
    "l = 0\n",
    "for b in range(B):\n",
    "    labels = mnist_test[b][1]\n",
    "    all_labels = torch.cat((all_labels, labels))\n",
    "\n",
    "    images = mnist_test[b][0]\n",
    "    K = images.shape[0]\n",
    "    for k in range(K):\n",
    "        an_img = images[k, :, :, :]\n",
    "        #an_img_flat = torch.flatten(an_img)\n",
    "        mean_img = cvae_model.encode(an_img)[0]\n",
    "        results[l] = mean_img\n",
    "        l += 1\n",
    "results = results[:l, :]\n",
    "all_labels = all_labels[:l]\n"
   ]
  },
  {
   "cell_type": "code",
   "execution_count": null,
   "metadata": {},
   "outputs": [],
   "source": [
    "results_for_plot = results.detach().numpy()\n",
    "\n",
    "scatter_x = results_for_plot[:, 0]\n",
    "scatter_y = results_for_plot[:, 1]\n",
    "group = all_labels\n",
    "\n",
    "cdict = {0: 'black', 1: 'red', 2: 'blue', 3: 'green', 4: 'brown',\n",
    "         5: 'orange', 6: 'yellow', 7: 'magenta', 8: 'cyan', 9: 'purple'}\n",
    "\n",
    "fig, ax = plt.subplots()\n",
    "for g in np.unique(group):\n",
    "    ix = np.where(group == g)\n",
    "    ax.scatter(scatter_x[ix], scatter_y[ix], c=cdict[g], label=g, s=0.8)\n",
    "ax.legend(markerscale=10)\n",
    "plt.savefig(cvae_fig_folder + \"clustering.pdf\",\n",
    "            bbox_inches=\"tight\", facecolor=\"w\")\n"
   ]
  },
  {
   "cell_type": "code",
   "execution_count": null,
   "metadata": {},
   "outputs": [],
   "source": [
    "M = 12\n",
    "x = torch.linspace(start=0, end=1, steps=M+2)\n",
    "x = x[:-1]\n",
    "x = x[1:]\n",
    "mesh_x, mesh_y = torch.meshgrid(x, x)\n",
    "gauss = torch.distributions.normal.Normal(loc=0, scale=1)\n",
    "gauss_x = gauss.icdf(mesh_x)  # .flip(0)\n",
    "gauss_y = gauss.icdf(mesh_y)\n"
   ]
  },
  {
   "cell_type": "code",
   "execution_count": null,
   "metadata": {},
   "outputs": [],
   "source": [
    "fig, ax = plt.subplots(nrows=M, ncols=M, figsize=(8, 8),\n",
    "                       sharex=True, sharey=True)\n",
    "for i in range(M):\n",
    "    for j in range(M):\n",
    "        x_val = gauss_x[i, j].item()\n",
    "        y_val = gauss_y[i, j].item()\n",
    "        im = cvae_model.decode(torch.Tensor([y_val, x_val]))\n",
    "        im_plt = im.reshape((28, 28))\n",
    "        plot_me = im_plt.detach().numpy()\n",
    "        ax[i][j].imshow(plot_me)\n",
    "        ax[i][j].axis(\"off\")\n",
    "\n",
    "slim = 0.6\n",
    "plt.tight_layout(pad=-slim, w_pad=-slim, h_pad=-slim)\n",
    "plt.savefig(cvae_fig_folder + \"interpolation.pdf\",\n",
    "            bbox_inches=\"tight\", facecolor=\"w\")"
   ]
  },
  {
   "cell_type": "code",
   "execution_count": null,
   "metadata": {},
   "outputs": [],
   "source": [
    "recons_cvae_sampled, _, _ = cvae_model(test_sampled.type(torch.float).view(-1, 1,28,28))\n",
    "recons_cvae_img_sampled = recons_cvae_sampled.detach().reshape(-1, 28,28)\n",
    "fig2, ax2 = plt.subplots(nrows=1, ncols=N_comp,\n",
    "                         figsize=(N_comp * fig_h / 1, fig_h))\n",
    "for j in range(N_comp):\n",
    "    ax2[j].axis(\"off\")\n",
    "    ax2[j].imshow(recons_cvae_img_sampled[j])\n",
    "plt.savefig(cvae_fig_folder + \"mean.pdf\", bbox_inches=\"tight\", facecolor=\"w\")"
   ]
  },
  {
   "cell_type": "code",
   "execution_count": null,
   "metadata": {},
   "outputs": [],
   "source": [
    "bernoulli_cvae = Bernoulli(recons_cvae_img_sampled)\n",
    "samples_cvae = bernoulli_cvae.sample()\n",
    "fig3, ax3 = plt.subplots(nrows=1, ncols=N_comp,\n",
    "                         figsize=(N_comp * fig_h / 1, fig_h))\n",
    "for j in range(N_comp):\n",
    "    ax3[j].axis(\"off\")\n",
    "    ax3[j].imshow(samples_cvae[j])\n",
    "plt.savefig(cvae_fig_folder + \"sample.pdf\", bbox_inches=\"tight\", facecolor=\"w\")\n"
   ]
  },
  {
   "attachments": {},
   "cell_type": "markdown",
   "metadata": {},
   "source": [
    "# PPCA"
   ]
  },
  {
   "cell_type": "markdown",
   "metadata": {},
   "source": [
    "### Rather than estimating it directly using maximum likelihood, start by \n",
    "- estimating the data covariance matrix\n",
    "- calculate the eigenvectors and eigenvalues\n",
    "- to initialize 𝑊 (12.45)\n",
    "- Then use eq 12.46 to calculate 𝜎"
   ]
  },
  {
   "cell_type": "code",
   "execution_count": null,
   "metadata": {},
   "outputs": [],
   "source": [
    "data_cov = torch.cov(data_vec.T)\n",
    "data_eig = torch.linalg.eig(data_cov)\n",
    "eig_vals = data_eig[0].real\n",
    "eig_vecs = data_eig[1].real\n",
    "#eig_vals = data_eig[0]\n",
    "#eig_vecs = data_eig[1]"
   ]
  },
  {
   "cell_type": "markdown",
   "metadata": {},
   "source": [
    "$W = U_M (L_M - \\sigma^2 I)^{1/2}$  \n",
    "U_M is DxM with columns being a subset of M eigenvectors of the covariance matrix.  \n",
    "L_M is MxM diagonal with corresponding eigenvalues.  "
   ]
  },
  {
   "cell_type": "code",
   "execution_count": null,
   "metadata": {},
   "outputs": [],
   "source": [
    "D = eig_vecs.shape[1]\n",
    "M = 2\n",
    "sig_sq = 1/(D-M)*torch.sum(eig_vals[2:])"
   ]
  },
  {
   "cell_type": "code",
   "execution_count": null,
   "metadata": {},
   "outputs": [],
   "source": [
    "U_M = eig_vecs[:,:2]\n",
    "L_M = torch.diag(eig_vals[:2])"
   ]
  },
  {
   "cell_type": "code",
   "execution_count": null,
   "metadata": {
    "scrolled": false
   },
   "outputs": [],
   "source": [
    "W = torch.matmul(U_M, (L_M-sig_sq*torch.eye(2))**0.5)"
   ]
  },
  {
   "cell_type": "markdown",
   "metadata": {},
   "source": [
    "## 𝜇 is given by the population mean."
   ]
  },
  {
   "cell_type": "code",
   "execution_count": null,
   "metadata": {},
   "outputs": [],
   "source": [
    "mu = torch.mean(data_vec, 0)"
   ]
  },
  {
   "cell_type": "markdown",
   "metadata": {},
   "source": [
    "### Now evaluate and plot the expected value of z given x for all your input images."
   ]
  },
  {
   "cell_type": "markdown",
   "metadata": {},
   "source": [
    "$p(z|x) = N(z | M^{-1}W^T(x-\\mu), \\sigma^{-2}M)$  \n",
    "$M = W^T W + \\sigma^2 I$"
   ]
  },
  {
   "cell_type": "code",
   "execution_count": null,
   "metadata": {},
   "outputs": [],
   "source": [
    "M_matrix = torch.matmul(W.T, W) + sig_sq * torch.eye(2)"
   ]
  },
  {
   "cell_type": "code",
   "execution_count": null,
   "metadata": {},
   "outputs": [],
   "source": [
    "x_mu = test_vec - mu"
   ]
  },
  {
   "cell_type": "code",
   "execution_count": null,
   "metadata": {},
   "outputs": [],
   "source": [
    "M_matrix_inv = torch.inverse(M_matrix)\n",
    "temp = M_matrix_inv@W.T"
   ]
  },
  {
   "cell_type": "code",
   "execution_count": null,
   "metadata": {},
   "outputs": [],
   "source": [
    "z_loc = temp@x_mu.T\n",
    "#z_loc = temp@x_mu.type(torch.complex128).T"
   ]
  },
  {
   "cell_type": "markdown",
   "metadata": {},
   "source": [
    "### Color the points by the digit labels. Does the Probabilistic PCA latent space separate the 10 digits?"
   ]
  },
  {
   "cell_type": "markdown",
   "metadata": {},
   "source": [
    "It is best at 0 and 1 the rest are more overlapping. But some tendencies are seen."
   ]
  },
  {
   "cell_type": "code",
   "execution_count": null,
   "metadata": {},
   "outputs": [],
   "source": [
    "results_for_plot = z_loc.detach().numpy().T\n",
    "\n",
    "scatter_x = results_for_plot[:,0]\n",
    "scatter_y = results_for_plot[:,1]\n",
    "group = test_set.targets\n",
    "#group = trainset.targets\n",
    "cdict = {0: 'black', 1: 'red', 2: 'blue', 3: 'green', 4: 'brown', \n",
    "         5: 'orange', 6: 'yellow', 7: 'magenta', 8: 'cyan', 9: 'purple'}\n",
    "\n",
    "fig, ax = plt.subplots()\n",
    "for g in np.unique(group):\n",
    "    ix = np.where(group == g)\n",
    "    ax.scatter(scatter_x[ix], scatter_y[ix], c = cdict[g], label = g, s = 0.8)\n",
    "ax.legend(markerscale = 10)\n",
    "plt.savefig(ppca_fig_folder + \"clustering.pdf\", bbox_inches = \"tight\", facecolor = \"w\")"
   ]
  },
  {
   "attachments": {},
   "cell_type": "markdown",
   "metadata": {},
   "source": [
    "### compute log-likelihood of test set"
   ]
  },
  {
   "cell_type": "code",
   "execution_count": null,
   "metadata": {},
   "outputs": [],
   "source": [
    "pi = torch.tensor(np.pi)\n",
    "C = W @ W.T + sig_sq * torch.eye(D)\n",
    "_, C_slogdet = torch.linalg.slogdet(C)\n",
    "inverse_C = torch.inverse(C)\n",
    "S = torch.cov(test_vec.T)\n",
    "#S = torch.cov(test_vec.type(torch.complex128).T)\n",
    "inner = D * torch.log(2*pi) + C_slogdet + torch.trace(inverse_C @ S)\n",
    "ppca_log_likelihood = (-N_test/2) * inner\n",
    "ppca_log_likelihood_mean = ppca_log_likelihood / N_test"
   ]
  },
  {
   "cell_type": "code",
   "execution_count": null,
   "metadata": {},
   "outputs": [],
   "source": [
    "ppca_log_likelihood, ppca_log_likelihood_mean"
   ]
  },
  {
   "attachments": {},
   "cell_type": "markdown",
   "metadata": {},
   "source": [
    "### Sample latent variables z given test set samples x"
   ]
  },
  {
   "cell_type": "code",
   "execution_count": null,
   "metadata": {},
   "outputs": [],
   "source": [
    "\n",
    "z_cov = sig_sq * M_matrix_inv\n",
    "#z_cov = (1/sig_sq) * M_matrix\n",
    "z_dist = MultivariateNormal(z_loc.T, z_cov)\n",
    "z_samples = z_dist.sample()"
   ]
  },
  {
   "attachments": {},
   "cell_type": "markdown",
   "metadata": {},
   "source": [
    "### Project latent variables to mean parameters of likelihood functions $P(x | z)$"
   ]
  },
  {
   "cell_type": "code",
   "execution_count": null,
   "metadata": {},
   "outputs": [],
   "source": [
    "x_mean = z_samples @ W.T + mu"
   ]
  },
  {
   "attachments": {},
   "cell_type": "markdown",
   "metadata": {},
   "source": [
    "### Visualize mean parameters as images"
   ]
  },
  {
   "cell_type": "code",
   "execution_count": null,
   "metadata": {},
   "outputs": [],
   "source": [
    "x_mean_img = x_mean.reshape(-1, 28, 28)\n",
    "x_mean_img_sampled = x_mean_img[indices]\n",
    "fig2, ax2 = plt.subplots(nrows=1, ncols=N_comp, figsize=(N_comp * fig_h / 1, fig_h))\n",
    "for j in range(N_comp):\n",
    "    ax2[j].axis(\"off\")\n",
    "    ax2[j].imshow(x_mean_img_sampled[j])\n",
    "plt.savefig(ppca_fig_folder + \"mean.pdf\", bbox_inches = \"tight\", facecolor = \"w\")"
   ]
  },
  {
   "attachments": {},
   "cell_type": "markdown",
   "metadata": {},
   "source": [
    "### Sample reconstructions from the likelihood distributions\n",
    "And compute the log likelihood of the test dataset based on the likelihood distributions (rather than analytically as before). "
   ]
  },
  {
   "cell_type": "code",
   "execution_count": null,
   "metadata": {},
   "outputs": [],
   "source": [
    "x_cov = sig_sq * torch.eye(D).type(torch.double)\n",
    "log_prob_multivariate = 0\n",
    "x_multivariate_samples = torch.empty(N_test, D)\n",
    "for i in range(N_test):\n",
    "    x_multivariate = MultivariateNormal(x_mean[i], x_cov)\n",
    "    x_multivariate_samples[i] = x_multivariate.sample()\n",
    "    log_prob_multivariate += x_multivariate.log_prob(test_vec[i])\n",
    "log_prob_multivariate_mean = log_prob_multivariate / N_test"
   ]
  },
  {
   "cell_type": "code",
   "execution_count": null,
   "metadata": {},
   "outputs": [],
   "source": [
    "log_prob_multivariate_mean"
   ]
  },
  {
   "attachments": {},
   "cell_type": "markdown",
   "metadata": {},
   "source": [
    "### Visualize sampled reconstructions"
   ]
  },
  {
   "cell_type": "code",
   "execution_count": null,
   "metadata": {},
   "outputs": [],
   "source": [
    "x_multivariate_samples_img = x_multivariate_samples.reshape(-1, 28, 28)\n",
    "x_multivariate_samples_sampled = x_multivariate_samples_img[indices]\n",
    "fig3, ax3 = plt.subplots(nrows=1, ncols=N_comp, figsize=(N_comp * fig_h / 1, fig_h))\n",
    "for j in range(N_comp):\n",
    "    ax3[j].axis(\"off\")\n",
    "    ax3[j].imshow(x_multivariate_samples_sampled[j])\n",
    "plt.savefig(ppca_fig_folder + \"sample.pdf\", bbox_inches = \"tight\", facecolor = \"w\")"
   ]
  },
  {
   "attachments": {},
   "cell_type": "markdown",
   "metadata": {},
   "source": [
    "### explore the latent space using a mesh grid and visualize the mean parameters of corresponding likelihood distributions"
   ]
  },
  {
   "cell_type": "code",
   "execution_count": null,
   "metadata": {},
   "outputs": [],
   "source": [
    "M_steps = 12\n",
    "x = torch.linspace(start=0, end=1, steps=M_steps+2)\n",
    "x = x[:-1]\n",
    "x = x[1:]"
   ]
  },
  {
   "cell_type": "code",
   "execution_count": null,
   "metadata": {},
   "outputs": [],
   "source": [
    "mesh_x, mesh_y = torch.meshgrid(x, x)\n",
    "gauss = torch.distributions.normal.Normal(loc=0, scale=1)\n",
    "gauss_x = gauss.icdf(mesh_x)  # .flip(0)\n",
    "gauss_y = gauss.icdf(mesh_y)\n",
    "fig, ax = plt.subplots(nrows=M_steps, ncols=M_steps, figsize=(12, 12),\n",
    "                       sharex=True, sharey=True)\n",
    "for i in range(M_steps):\n",
    "    for j in range(M_steps):\n",
    "        x_val = gauss_x[i, j].item()\n",
    "        y_val = gauss_y[i, j].item()\n",
    "        z_val = torch.tensor([y_val, x_val], dtype = torch.double)\n",
    "        z_val_mean = z_val @ W.T + mu\n",
    "        im_plt = z_val_mean.type(torch.double).reshape((28, 28))\n",
    "        ax[i][j].imshow(im_plt)\n",
    "        ax[i][j].axis(\"off\")\n",
    "\n",
    "slim = 0.6\n",
    "plt.tight_layout(pad=-slim, w_pad=-slim, h_pad=-slim)\n",
    "plt.savefig(ppca_fig_folder + \"interpolation.pdf\",\n",
    "            bbox_inches=\"tight\", facecolor=\"w\")"
   ]
  },
  {
   "attachments": {},
   "cell_type": "markdown",
   "metadata": {},
   "source": [
    "### Compute the mean squared error on the test set"
   ]
  },
  {
   "cell_type": "code",
   "execution_count": null,
   "metadata": {},
   "outputs": [],
   "source": [
    "ppca_mse = torch.nn.functional.mse_loss(x_mean, test_vec, reduction = \"mean\")"
   ]
  },
  {
   "attachments": {},
   "cell_type": "markdown",
   "metadata": {},
   "source": [
    "### Export metrics to latex file"
   ]
  },
  {
   "cell_type": "code",
   "execution_count": null,
   "metadata": {},
   "outputs": [],
   "source": [
    "import pandas as pd\n",
    "import os\n",
    "metrics =np.array([\n",
    "    #[log_prob_vae, mse_loss_vae],\n",
    "    [elbo_vae, mse_loss_vae],\n",
    "    #[log_prob_cvae, mse_loss_cvae],\n",
    "    [elbo_cvae, mse_loss_cvae],\n",
    "    [ppca_log_likelihood_mean, ppca_mse], \n",
    "    \n",
    "])\n",
    "df = pd.DataFrame(metrics)\n",
    "latex_headers = ['\\textbf{Log-Likelihood/ELBO}', '\\textbf{MSE}']\n",
    "df.columns = latex_headers\n",
    "df.index = [\"VAE\", \"CVAE\", \"PPCA\"]\n",
    "df"
   ]
  },
  {
   "cell_type": "code",
   "execution_count": null,
   "metadata": {},
   "outputs": [],
   "source": [
    "latex_path = '../report/metrics.tex'\n",
    "os.makedirs(os.path.dirname(latex_path), exist_ok=True)\n",
    "latex_caption = 'Model performance metrics'\n",
    "latex_label = 'table:metrics'\n",
    "df.to_latex(latex_path, caption=latex_caption, \n",
    "            label=latex_label, escape=False, column_format='ccc', bold_rows=True)\n"
   ]
  }
 ],
 "metadata": {
  "kernelspec": {
   "display_name": "base",
   "language": "python",
   "name": "python3"
  },
  "language_info": {
   "codemirror_mode": {
    "name": "ipython",
    "version": 3
   },
   "file_extension": ".py",
   "mimetype": "text/x-python",
   "name": "python",
   "nbconvert_exporter": "python",
   "pygments_lexer": "ipython3",
   "version": "3.9.13"
  },
  "vscode": {
   "interpreter": {
    "hash": "c333c341eb371fc5e14c073d5b36648dab502d4cfc3bb985fa3f34b4687c0199"
   }
  }
 },
 "nbformat": 4,
 "nbformat_minor": 2
}
