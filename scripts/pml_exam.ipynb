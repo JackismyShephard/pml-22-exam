{
 "cells": [
  {
   "cell_type": "code",
   "execution_count": 1,
   "metadata": {},
   "outputs": [],
   "source": [
    "from __future__ import print_function\n",
    "import argparse\n",
    "import torch\n",
    "import torch.utils.data\n",
    "from torch import nn, optim\n",
    "from torch.nn import functional as F\n",
    "from torchvision import datasets, transforms\n",
    "from torchvision.utils import save_image\n",
    "\n",
    "import matplotlib.pyplot as plt\n",
    "import numpy as np"
   ]
  },
  {
   "cell_type": "code",
   "execution_count": 2,
   "metadata": {},
   "outputs": [],
   "source": [
    "cuda2 = False # torch.cuda.is_available() can be used to check if a gpu is available - I just set it to False\n",
    "batch_size2 = 128\n",
    "log_interval2 = 10\n",
    "epochs2 = 4 # 10\n",
    "\n",
    "torch.manual_seed(1) # args.seed\n",
    "\n",
    "device = torch.device(\"cuda\" if cuda2 else \"cpu\") # args.cuda\n",
    "kwargs = {'num_workers': 1, 'pin_memory': True} if cuda2 else {} # args.cuda\n",
    "\n",
    "# Get train and test data\n",
    "train_loader = torch.utils.data.DataLoader(\n",
    "    datasets.MNIST('../data', train=True, download=True,\n",
    "                   transform=transforms.ToTensor()),\n",
    "    batch_size=batch_size2, shuffle=True, **kwargs)\n",
    "test_loader = torch.utils.data.DataLoader(\n",
    "    datasets.MNIST('../data', train=False, transform=transforms.ToTensor()),\n",
    "    batch_size=batch_size2, shuffle=True, **kwargs)"
   ]
  },
  {
   "cell_type": "code",
   "execution_count": 3,
   "metadata": {},
   "outputs": [],
   "source": [
    "# Define VAE model\n",
    "class VAE(nn.Module):\n",
    "    def __init__(self):\n",
    "        super(VAE, self).__init__()\n",
    "\n",
    "        self.fc1 = nn.Linear(784, 400)\n",
    "        self.fc1a = nn.Linear(400, 100)\n",
    "        self.fc21 = nn.Linear(100, 2) # Latent space of 2D\n",
    "        self.fc22 = nn.Linear(100, 2) # Latent space of 2D\n",
    "        self.fc3 = nn.Linear(2, 100) # Latent space of 2D\n",
    "        self.fc3a = nn.Linear(100, 400)\n",
    "        self.fc4 = nn.Linear(400, 784)\n",
    "\n",
    "    def encode(self, x):\n",
    "        h1 = F.relu(self.fc1(x))\n",
    "        h2 = F.relu(self.fc1a(h1))\n",
    "        return self.fc21(h2), self.fc22(h2)\n",
    "\n",
    "    def reparameterize(self, mu, logvar):\n",
    "        std = torch.exp(0.5*logvar)\n",
    "        eps = torch.randn_like(std)\n",
    "        return mu + eps*std\n",
    "\n",
    "    def decode(self, z):\n",
    "        h3 = F.relu(self.fc3(z))\n",
    "        h4 = F.relu(self.fc3a(h3))\n",
    "        return torch.sigmoid(self.fc4(h4))\n",
    "\n",
    "    def forward(self, x):\n",
    "        mu, logvar = self.encode(x.view(-1, 784))\n",
    "        z = self.reparameterize(mu, logvar)\n",
    "        temp = self.decode(z).view(-1, 1, 28, 28)\n",
    "        return temp, mu, logvar"
   ]
  },
  {
   "cell_type": "code",
   "execution_count": 4,
   "metadata": {},
   "outputs": [],
   "source": [
    "# Define CVAE model\n",
    "class CVAE(nn.Module):\n",
    "    def __init__(self):\n",
    "        super(CVAE, self).__init__()\n",
    "\n",
    "        self.fc1 = nn.Conv2d(1, 32, kernel_size=(\n",
    "            3, 3), stride=2, padding=1)  # nn.Linear(784, 400)\n",
    "        self.fc1a = nn.Conv2d(32, 64, kernel_size=(\n",
    "            3, 3), stride=2, padding=1)  # nn.Linear(400, 100)\n",
    "        W, H = 7, 7\n",
    "        self.fc21 = nn.Linear(64 * W * H, 2)  # Latent space of 2D\n",
    "        self.fc22 = nn.Linear(64 * W * H, 2)  # Latent space of 2D\n",
    "        self.fc3 = nn.Linear(2, 64 * W * H)  # Latent space of 2D\n",
    "        self.fc3a = nn.ConvTranspose2d(\n",
    "            64, 32, kernel_size=3, stride=2, padding=1, output_padding=1)\n",
    "        self.fc4 = nn.ConvTranspose2d(\n",
    "            32, 1, kernel_size=3, stride=2, padding=1, output_padding=1)\n",
    "\n",
    "    def encode(self, x):\n",
    "        h1 = F.relu(self.fc1(x))\n",
    "        h2 = F.relu(self.fc1a(h1))\n",
    "        h2 = h2.view(-1, 7 * 7 * 64)\n",
    "        return self.fc21(h2), self.fc22(h2)\n",
    "\n",
    "    def reparameterize(self, mu, logvar):\n",
    "        std = torch.exp(0.5*logvar)\n",
    "        eps = torch.randn_like(std)\n",
    "        return mu + eps*std\n",
    "\n",
    "    def decode(self, z):\n",
    "        h3 = F.relu(self.fc3(z))\n",
    "        h3 = h3.view(-1, 64, 7, 7)\n",
    "        h4 = F.relu(self.fc3a(h3))\n",
    "        return torch.sigmoid(self.fc4(h4))\n",
    "\n",
    "    def forward(self, x):\n",
    "        mu, logvar = self.encode(x)\n",
    "        z = self.reparameterize(mu, logvar)\n",
    "        return self.decode(z), mu, logvar\n"
   ]
  },
  {
   "cell_type": "code",
   "execution_count": 5,
   "metadata": {},
   "outputs": [],
   "source": [
    "\n",
    "\n",
    "# Reconstruction + KL divergence losses summed over all elements and batch\n",
    "def loss_function(recon_x, x, mu, logvar):\n",
    "    BCE = F.binary_cross_entropy(recon_x, x, reduction='sum')\n",
    "    KLD = -0.5 * torch.sum(1 + logvar - mu.pow(2) - logvar.exp())\n",
    "    return BCE + KLD  # -ELBO\n",
    "\n",
    "\n",
    "def mse(x, y):\n",
    "    loss_fun = torch.nn.MSELoss()\n",
    "    return loss_fun(x, y)\n",
    "\n",
    "\n",
    "def train(model, optimizer, train_loader, epoch):\n",
    "    # so that everything has gradients and we can do backprop and so on...\n",
    "    model.train()\n",
    "    train_loss = 0\n",
    "    for batch_idx, (data, _) in enumerate(train_loader):\n",
    "        data = data.to(device)\n",
    "        optimizer.zero_grad()  # \"reset\" gradients to 0 for text iteration\n",
    "        recon_batch, mu, logvar = model(data)\n",
    "        loss = loss_function(recon_batch, data, mu, logvar)\n",
    "        loss.backward()  # calc gradients\n",
    "        train_loss += loss.item()\n",
    "        optimizer.step()  # backpropagation\n",
    "\n",
    "    print('====> Epoch: {} Average loss: {:.4f}'.format(\n",
    "          epoch, train_loss / len(train_loader.dataset)))\n",
    "\n",
    "\n",
    "def test(model, test_loader, epoch):\n",
    "    model.eval()\n",
    "    test_loss = 0\n",
    "    with torch.no_grad():  # no_grad turns of gradients...\n",
    "        for i, (data, _) in enumerate(test_loader):\n",
    "            data = data.to(device)\n",
    "            recon_batch, mu, logvar = model(data)\n",
    "            test_loss += loss_function(recon_batch, data, mu, logvar).item()\n",
    "\n",
    "    test_loss /= len(test_loader.dataset)\n",
    "    print('====> Test set loss: {:.4f}'.format(test_loss))\n",
    "\n",
    "\n",
    "def model_train(model, optimizer, train_loader, test_loader, epochs):\n",
    "    for epoch in range(1, epochs + 1):\n",
    "        train(model, optimizer, train_loader, epoch)\n",
    "        test(model, test_loader, epoch)\n",
    "        with torch.no_grad():\n",
    "            sample = torch.randn(64, 2).to(device)  # 20 -> 2\n",
    "            sample = model.decode(sample).cpu()\n",
    "            save_image(sample.view(64, 1, 28, 28),\n",
    "                       'results/sample_' + str(epoch) + '.png')\n"
   ]
  },
  {
   "cell_type": "code",
   "execution_count": 6,
   "metadata": {},
   "outputs": [],
   "source": [
    "vae_model = VAE().to(device)\n",
    "vae_optimizer = optim.Adam(vae_model.parameters(), lr=1e-3)\n",
    "# train some shit\n",
    "\n",
    "cvae_model = CVAE().to(device)\n",
    "cvae_optimizer = optim.Adam(cvae_model.parameters(), lr=1e-3)\n",
    "# train more shit"
   ]
  },
  {
   "cell_type": "code",
   "execution_count": 7,
   "metadata": {},
   "outputs": [
    {
     "name": "stdout",
     "output_type": "stream",
     "text": [
      "====> Epoch: 1 Average loss: 186.2416\n",
      "====> Test set loss: 165.8579\n",
      "====> Epoch: 2 Average loss: 162.0740\n",
      "====> Test set loss: 158.0092\n",
      "====> Epoch: 3 Average loss: 156.5293\n",
      "====> Test set loss: 153.9628\n",
      "====> Epoch: 4 Average loss: 153.0760\n",
      "====> Test set loss: 151.4412\n"
     ]
    }
   ],
   "source": [
    "model_train(vae_model, vae_optimizer, train_loader, test_loader, 4)"
   ]
  },
  {
   "cell_type": "code",
   "execution_count": 8,
   "metadata": {},
   "outputs": [
    {
     "name": "stdout",
     "output_type": "stream",
     "text": [
      "====> Epoch: 1 Average loss: 211.7008\n",
      "====> Test set loss: 177.7465\n",
      "====> Epoch: 2 Average loss: 173.2548\n",
      "====> Test set loss: 169.7860\n",
      "====> Epoch: 3 Average loss: 167.7287\n",
      "====> Test set loss: 165.7367\n",
      "====> Epoch: 4 Average loss: 164.6295\n",
      "====> Test set loss: 163.5258\n"
     ]
    }
   ],
   "source": [
    "model_train(cvae_model, cvae_optimizer, train_loader, test_loader, 4)"
   ]
  }
 ],
 "metadata": {
  "kernelspec": {
   "display_name": "base",
   "language": "python",
   "name": "python3"
  },
  "language_info": {
   "codemirror_mode": {
    "name": "ipython",
    "version": 3
   },
   "file_extension": ".py",
   "mimetype": "text/x-python",
   "name": "python",
   "nbconvert_exporter": "python",
   "pygments_lexer": "ipython3",
   "version": "3.9.13 (main, Aug 25 2022, 23:51:50) [MSC v.1916 64 bit (AMD64)]"
  },
  "orig_nbformat": 4,
  "vscode": {
   "interpreter": {
    "hash": "c333c341eb371fc5e14c073d5b36648dab502d4cfc3bb985fa3f34b4687c0199"
   }
  }
 },
 "nbformat": 4,
 "nbformat_minor": 2
}
